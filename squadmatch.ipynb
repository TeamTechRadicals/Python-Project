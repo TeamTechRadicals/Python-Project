{
 "cells": [
  {
   "cell_type": "markdown",
   "metadata": {},
   "source": [
    "## RADICAL X"
   ]
  },
  {
   "cell_type": "markdown",
   "metadata": {},
   "source": [
    "## SQUAD MATCHING PYTHON PROJECT\n",
    "PRODUCT DEVELOPMENT SQUAD 16 - TECH RADICALS "
   ]
  },
  {
   "cell_type": "code",
   "execution_count": 2,
   "metadata": {},
   "outputs": [],
   "source": [
    "# Import all necessary Packages (Pandas enable us work with Dataframes and this will be required for the CSV file)\n",
    "import pandas as pd"
   ]
  },
  {
   "cell_type": "code",
   "execution_count": 59,
   "metadata": {},
   "outputs": [],
   "source": [
    "def wrangle (filepath):\n",
    "    #Read CSV file into Dataframe\n",
    "     df = pd.read_csv(filepath)\n",
    "     df_prod_dev = df[df[\"What Group Virtual Internship Program are you interested in registering for\"].str.contains(\"Product Development\")== True]\n",
    "     df_prod_des = df[df[\"What Group Virtual Internship Program are you interested in registering for\"].str.contains(\"Product Design\")== True]\n",
    "     df_prod_mkt = df[df[\"What Group Virtual Internship Program are you interested in registering for\"].str.contains(\"Product Marketing\")== True]\n",
    "     df_prod_growth = df[df[\"What Group Virtual Internship Program are you interested in registering for\"].str.contains(\"Product Growth\")== True]\n",
    "     # df =df[\n",
    "     #      [\"Name\",\n",
    "     #      \"Squad Number\",\n",
    "     #      \"Do you have any preferred language of communication?\",\n",
    "          \n",
    "     #      ]\n",
    "     #      ]\n",
    "    \n",
    "     # Subset to English Communications\n",
    "     # df [\"en\"] =  df[\"Do you have any preferred language of communication?\"].str.contains(\"English\", case =False)\n",
    "     # df = df[df[\"en\"]== True] \n",
    "\n",
    "     # Group by Time Zone\n",
    "     \n",
    "# Timezone \n",
    "# Region\n",
    "# Language Proficiency\n",
    "# Experience Level ( Senior , Junior)\n",
    "\n",
    "#     df = df[mask_area]\n",
    "    \n",
    "     return df"
   ]
  },
  {
   "cell_type": "code",
   "execution_count": 60,
   "metadata": {},
   "outputs": [
    {
     "ename": "NameError",
     "evalue": "name 'df_prod_dev' is not defined",
     "output_type": "error",
     "traceback": [
      "\u001b[1;31m---------------------------------------------------------------------------\u001b[0m",
      "\u001b[1;31mNameError\u001b[0m                                 Traceback (most recent call last)",
      "\u001b[1;32mc:\\Users\\a\\Desktop\\Radical X\\squadmatch.ipynb Cell 5\u001b[0m in \u001b[0;36m<module>\u001b[1;34m\u001b[0m\n\u001b[0;32m      <a href='vscode-notebook-cell:/c%3A/Users/a/Desktop/Radical%20X/squadmatch.ipynb#W4sZmlsZQ%3D%3D?line=0'>1</a>\u001b[0m \u001b[39m# Read the CSV file into a dataframe\u001b[39;00m\n\u001b[0;32m      <a href='vscode-notebook-cell:/c%3A/Users/a/Desktop/Radical%20X/squadmatch.ipynb#W4sZmlsZQ%3D%3D?line=1'>2</a>\u001b[0m df \u001b[39m=\u001b[39m wrangle(\u001b[39m\"\u001b[39m\u001b[39mSquad Matching data .csv\u001b[39m\u001b[39m\"\u001b[39m)\n\u001b[1;32m----> <a href='vscode-notebook-cell:/c%3A/Users/a/Desktop/Radical%20X/squadmatch.ipynb#W4sZmlsZQ%3D%3D?line=2'>3</a>\u001b[0m df_prod_dev[\u001b[39m\"\u001b[39m\u001b[39mWhat Group Virtual Internship Program are you interested in registering for\u001b[39m\u001b[39m\"\u001b[39m]\n",
      "\u001b[1;31mNameError\u001b[0m: name 'df_prod_dev' is not defined"
     ]
    }
   ],
   "source": [
    "# Read the CSV file into a dataframe\n",
    "df = wrangle(\"Squad Matching data .csv\")\n",
    "df_prod_dev[\"What Group Virtual Internship Program are you interested in registering for\"]\n",
    "# df_prod_design[\"What Group Virtual Internship Program are you interested in registering for\"]\n"
   ]
  },
  {
   "cell_type": "code",
   "execution_count": null,
   "metadata": {},
   "outputs": [],
   "source": []
  }
 ],
 "metadata": {
  "kernelspec": {
   "display_name": "\"Python/Mu (mu_venv-38-20220210-023622)\"",
   "language": "python",
   "name": "mu_venv-38-20220210-023622"
  },
  "language_info": {
   "codemirror_mode": {
    "name": "ipython",
    "version": 3
   },
   "file_extension": ".py",
   "mimetype": "text/x-python",
   "name": "python",
   "nbconvert_exporter": "python",
   "pygments_lexer": "ipython3",
   "version": "3.8.11"
  },
  "orig_nbformat": 4
 },
 "nbformat": 4,
 "nbformat_minor": 2
}
