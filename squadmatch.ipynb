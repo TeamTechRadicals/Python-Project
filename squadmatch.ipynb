{
 "cells": [
  {
   "cell_type": "markdown",
   "metadata": {},
   "source": [
    "## RADICAL X"
   ]
  },
  {
   "cell_type": "markdown",
   "metadata": {},
   "source": [
    "## SQUAD MATCHING PYTHON PROJECT\n",
    "PRODUCT DEVELOPMENT SQUAD 16 - TECH RADICALS "
   ]
  },
  {
   "cell_type": "code",
   "execution_count": 2,
   "metadata": {},
   "outputs": [],
   "source": [
    "# Import all necessary Packages (Pandas enable us work with Dataframes and this will be required for the CSV file)\n",
    "import pandas as pd"
   ]
  },
  {
   "cell_type": "code",
   "execution_count": 1,
   "metadata": {},
   "outputs": [],
   "source": [
    "def wrangle (filepath):\n",
    "    #Read CSV file into Dataframe\n",
    "     df = pd.read_csv(filepath)\n",
    "\n",
    "     # Subset to English Communications\n",
    "     df =  df[\n",
    "          df[\"Do you have any preferred language of communication?\"].\n",
    "          str.contains(\"English\", case =False)==True\n",
    "          ]\n",
    "     # Grouping Data according to internship type\n",
    "     df_prod_dev = df[df[\"What Group Virtual Internship Program are you interested in registering for\"].str.contains(\"Product Development\")== True]\n",
    "     df_prod_des = df[df[\"What Group Virtual Internship Program are you interested in registering for\"].str.contains(\"Product Design\")== True]\n",
    "     df_prod_mkt = df[df[\"What Group Virtual Internship Program are you interested in registering for\"].str.contains(\"Product Marketing\")== True]\n",
    "     df_prod_growth = df[df[\"What Group Virtual Internship Program are you interested in registering for\"].str.contains(\"Product Growth\")== True]\n",
    "   \n",
    "# Timezone \n",
    "# Region\n",
    "# Language Proficiency\n",
    "# Experience Level ( Senior , Junior)\n",
    "\n",
    "#     df = df[mask_area]\n",
    "    \n",
    "     return df, df_prod_dev, df_prod_des, df_prod_mkt,df_prod_growth"
   ]
  },
  {
   "cell_type": "code",
   "execution_count": 4,
   "metadata": {},
   "outputs": [
    {
     "data": {
      "text/plain": [
       "array(['Europe,Africa', 'Africa,Europe', 'Americas', 'Asia,Europe',\n",
       "       'Europe', 'Asia', 'Europe,Africa,Asia', 'Asia,Americas',\n",
       "       'Americas,Europe,Any/No preference', 'Americas,Any/No preference',\n",
       "       'Any/No preference', 'Africa', 'Africa,Europe,Any/No preference',\n",
       "       'Any/No preference,Americas,Europe',\n",
       "       'Any/No preference,Africa,Europe', 'Africa,Any/No preference',\n",
       "       'Europe,Africa,Any/No preference',\n",
       "       'Africa,Any/No preference,Europe,Americas', 'Europe,Americas',\n",
       "       'Asia,Any/No preference', 'Any/No preference,Americas',\n",
       "       'Any/No preference,Asia,Americas',\n",
       "       'Asia,Americas,Europe,Australia', 'Europe,Asia',\n",
       "       'Asia,Africa,Europe,Americas',\n",
       "       'Asia,Europe,Australia,Africa,Any/No preference', 'Asia,Australia',\n",
       "       'Asia,Australia,Any/No preference',\n",
       "       'Asia,Europe,Any/No preference', 'Any/No preference,Europe',\n",
       "       'Americas,Africa,Europe', 'Africa,Americas',\n",
       "       'Americas,Europe,Africa', 'Africa,Europe,Americas', 'Africa,Asia',\n",
       "       'Africa,Asia,Americas,Australia,Europe',\n",
       "       'Africa,Americas,Any/No preference', 'Any/No preference,Africa',\n",
       "       'Europe,Any/No preference',\n",
       "       'Americas,Europe,Africa,Any/No preference',\n",
       "       'Africa,Any/No preference,Europe',\n",
       "       'Any/No preference,Americas,Europe,Africa,Asia,Australia',\n",
       "       'Europe,Americas,Africa', 'Americas,Europe,Asia,Australia',\n",
       "       'Any/No preference,Asia', 'Americas,Australia,Europe',\n",
       "       'Asia,Europe,Americas', 'Australia,Asia,Europe,Americas',\n",
       "       'Europe,Americas,Asia,Any/No preference',\n",
       "       'Americas,Europe,Australia,Asia', 'Asia,Americas,Europe',\n",
       "       'Americas,Asia', 'Asia,Africa', 'Americas,Europe',\n",
       "       'Americas,Europe,Asia', nan,\n",
       "       'Americas,Australia,Europe,Asia,Any/No preference'], dtype=object)"
      ]
     },
     "execution_count": 4,
     "metadata": {},
     "output_type": "execute_result"
    }
   ],
   "source": [
    "# Read the CSV file into a dataframe\n",
    "radical, rad_dev, rad_des, rad_mkt, rad_growth = wrangle(\"Squad Matching data .csv\")\n",
    "radical[\"Time Zone\"].unique()\n"
   ]
  },
  {
   "cell_type": "code",
   "execution_count": null,
   "metadata": {},
   "outputs": [],
   "source": []
  }
 ],
 "metadata": {
  "kernelspec": {
   "display_name": "\"Python/Mu (mu_venv-38-20220210-023622)\"",
   "language": "python",
   "name": "mu_venv-38-20220210-023622"
  },
  "language_info": {
   "codemirror_mode": {
    "name": "ipython",
    "version": 3
   },
   "file_extension": ".py",
   "mimetype": "text/x-python",
   "name": "python",
   "nbconvert_exporter": "python",
   "pygments_lexer": "ipython3",
   "version": "3.8.11"
  },
  "orig_nbformat": 4
 },
 "nbformat": 4,
 "nbformat_minor": 2
}
